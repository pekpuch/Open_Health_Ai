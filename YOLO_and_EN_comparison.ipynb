{
 "cells": [
  {
   "cell_type": "code",
   "execution_count": 1,
   "metadata": {
    "_cell_guid": "b1076dfc-b9ad-4769-8c92-a6c4dae69d19",
    "_uuid": "8f2839f25d086af736a60e9eeb907d3b93b6e0e5",
    "execution": {
     "iopub.execute_input": "2024-11-20T11:29:15.012225Z",
     "iopub.status.busy": "2024-11-20T11:29:15.011964Z",
     "iopub.status.idle": "2024-11-20T11:29:20.281543Z",
     "shell.execute_reply": "2024-11-20T11:29:20.280864Z",
     "shell.execute_reply.started": "2024-11-20T11:29:15.012200Z"
    },
    "trusted": true
   },
   "outputs": [],
   "source": [
    "import torch\n",
    "import os\n",
    "import numpy as np\n",
    "from PIL import Image\n",
    "import torch.nn as nn\n",
    "from torchvision import models, transforms\n",
    "from torch.utils.data import Dataset\n",
    "import torchvision.models as models\n",
    "from sklearn.metrics import confusion_matrix, ConfusionMatrixDisplay,precision_score, recall_score\n",
    "import matplotlib.pyplot as plt\n",
    "from ultralytics import YOLO"
   ]
  },
  {
   "cell_type": "code",
   "execution_count": 2,
   "metadata": {
    "execution": {
     "iopub.execute_input": "2024-11-20T11:29:20.283864Z",
     "iopub.status.busy": "2024-11-20T11:29:20.283136Z",
     "iopub.status.idle": "2024-11-20T11:29:20.287854Z",
     "shell.execute_reply": "2024-11-20T11:29:20.286964Z",
     "shell.execute_reply.started": "2024-11-20T11:29:20.283819Z"
    },
    "trusted": true
   },
   "outputs": [],
   "source": [
    "test_data_dir = 'app/data/dataset/test'"
   ]
  },
  {
   "cell_type": "code",
   "execution_count": 3,
   "metadata": {
    "execution": {
     "iopub.execute_input": "2024-11-20T11:29:20.289111Z",
     "iopub.status.busy": "2024-11-20T11:29:20.288855Z",
     "iopub.status.idle": "2024-11-20T11:29:20.310898Z",
     "shell.execute_reply": "2024-11-20T11:29:20.310211Z",
     "shell.execute_reply.started": "2024-11-20T11:29:20.289074Z"
    },
    "trusted": true
   },
   "outputs": [],
   "source": [
    "class CustomDataset(Dataset):\n",
    "    def __init__(self, img_dir, image_transform=None, label_transform=None):\n",
    "        self.normal_dir = img_dir + '/NORMAL'\n",
    "        self.pneumonia_dir = img_dir + '/PNEUMONIA'\n",
    "        self.images_list = []  \n",
    "        self.image_transform = image_transform\n",
    "        for f in os.listdir(self.normal_dir):\n",
    "            self.images_list.append(os.path.join(self.normal_dir, f))\n",
    "        for f in os.listdir(self.pneumonia_dir):\n",
    "            self.images_list.append(os.path.join(self.pneumonia_dir, f))\n",
    "            \n",
    "    def __len__(self):\n",
    "        return len(self.images_list)\n",
    "\n",
    "    def __getitem__(self, idx):\n",
    "        img_name = self.images_list[idx]\n",
    "        if 'NORMAL' in img_name:\n",
    "            label = 0\n",
    "        else:\n",
    "            label = 1\n",
    "        label = torch.tensor(label, dtype=torch.float32)\n",
    "        image = Image.open(img_name).convert('RGB')\n",
    "        image_augmented = self.image_transform(image)\n",
    "        return image_augmented, label\n",
    "\n",
    "    \n",
    "test_transform = transforms.Compose([\n",
    "    transforms.Resize((224,224)),\n",
    "    transforms.ToTensor(),\n",
    "])"
   ]
  },
  {
   "cell_type": "code",
   "execution_count": 4,
   "metadata": {
    "execution": {
     "iopub.execute_input": "2024-11-20T11:29:20.313349Z",
     "iopub.status.busy": "2024-11-20T11:29:20.312618Z",
     "iopub.status.idle": "2024-11-20T11:29:20.436749Z",
     "shell.execute_reply": "2024-11-20T11:29:20.436129Z",
     "shell.execute_reply.started": "2024-11-20T11:29:20.313313Z"
    },
    "trusted": true
   },
   "outputs": [],
   "source": [
    "test_dataset = CustomDataset(img_dir=test_data_dir, image_transform=test_transform)"
   ]
  },
  {
   "cell_type": "code",
   "execution_count": 5,
   "metadata": {
    "execution": {
     "iopub.execute_input": "2024-11-20T11:29:26.722215Z",
     "iopub.status.busy": "2024-11-20T11:29:26.721317Z",
     "iopub.status.idle": "2024-11-20T11:29:27.449575Z",
     "shell.execute_reply": "2024-11-20T11:29:27.448593Z",
     "shell.execute_reply.started": "2024-11-20T11:29:26.722162Z"
    },
    "trusted": true
   },
   "outputs": [
    {
     "data": {
      "text/plain": [
       "<All keys matched successfully>"
      ]
     },
     "execution_count": 5,
     "metadata": {},
     "output_type": "execute_result"
    }
   ],
   "source": [
    "efficientnet_model = models.efficientnet_v2_s(weights=None)\n",
    "num_features = efficientnet_model.classifier[1].in_features\n",
    "efficientnet_model.classifier[1] = nn.Linear(num_features, 1)  \n",
    "\n",
    "device = 'cuda:0' if torch.cuda.is_available() else 'cpu'\n",
    "efficientnet_model = efficientnet_model.to(device)\n",
    "efficientnet_model.load_state_dict(torch.load('EN weigths/efficient_93_acc.pth'))"
   ]
  },
  {
   "cell_type": "code",
   "execution_count": 7,
   "metadata": {},
   "outputs": [],
   "source": [
    "YOLO_model = YOLO(\"app/data/weights/yolo_96_acc.pt\") "
   ]
  },
  {
   "cell_type": "code",
   "execution_count": 8,
   "metadata": {},
   "outputs": [
    {
     "name": "stdout",
     "output_type": "stream",
     "text": [
      "Accuracy: 93.43%\n",
      "Precision: 94.40%\n",
      "Recall: 95.13%\n"
     ]
    },
    {
     "data": {
      "image/png": "[encoded data removed]",
      "text/plain": [
       "<Figure size 640x480 with 2 Axes>"
      ]
     },
     "metadata": {},
     "output_type": "display_data"
    }
   ],
   "source": [
    "# EfficientNet on test dataset\n",
    "all_targets = []\n",
    "all_predictions = []\n",
    "\n",
    "efficientnet_model.eval()\n",
    "correct_predictions = 0\n",
    "total_predictions = 0\n",
    "\n",
    "with torch.no_grad():\n",
    "    for image, label in test_dataset:\n",
    "        image = image.to(device)\n",
    "        label = label.to(device)\n",
    "        image = image.unsqueeze(0)\n",
    "        label = label.unsqueeze(0)\n",
    "        outputs = efficientnet_model(image)\n",
    "        outputs = outputs.squeeze(1)\n",
    "        \n",
    "        probabilities = torch.sigmoid(outputs)\n",
    "        predicted = (probabilities > 0.5).float()\n",
    "        correct_predictions += (predicted == label).sum().item()\n",
    "        total_predictions += 1\n",
    "\n",
    "        # Сохраняем истинные и предсказанные метки\n",
    "        all_targets.extend(label.cpu().numpy())\n",
    "        all_predictions.extend(predicted.cpu().numpy())\n",
    "\n",
    "accuracy = correct_predictions / total_predictions\n",
    "print(f'Accuracy: {accuracy * 100:.2f}%')\n",
    "\n",
    "precision = precision_score(all_targets, all_predictions)\n",
    "recall = recall_score(all_targets, all_predictions)\n",
    "print(f'Precision: {precision * 100:.2f}%')\n",
    "print(f'Recall: {recall * 100:.2f}%')\n",
    "\n",
    "\n",
    "conf_matrix = confusion_matrix(all_targets, all_predictions)\n",
    "\n",
    "disp = ConfusionMatrixDisplay(confusion_matrix=conf_matrix, display_labels=['Class 0', 'Class 1'])\n",
    "disp.plot(cmap=plt.cm.Blues)\n",
    "plt.show()\n"
   ]
  },
  {
   "cell_type": "code",
   "execution_count": 9,
   "metadata": {},
   "outputs": [
    {
     "name": "stdout",
     "output_type": "stream",
     "text": [
      "Accuracy: 95.51%\n",
      "Precision: 94.15%\n",
      "Recall: 98.97%\n"
     ]
    },
    {
     "data": {
      "image/png": "[encoded data removed]",
      "text/plain": [
       "<Figure size 640x480 with 2 Axes>"
      ]
     },
     "metadata": {},
     "output_type": "display_data"
    }
   ],
   "source": [
    "# YOLO on test dataset\n",
    "all_targets = []\n",
    "all_predictions = []\n",
    "\n",
    "correct_predictions = 0\n",
    "total_predictions = 0\n",
    "\n",
    "with torch.no_grad():\n",
    "    for image, label in test_dataset:\n",
    "        image = image.to(device)\n",
    "        label = label.to(device)\n",
    "        image = image.unsqueeze(0)\n",
    "        label = label.unsqueeze(0)\n",
    "        outputs = YOLO_model(image, verbose=False)\n",
    "\n",
    "        probs = outputs[0].probs\n",
    "        predicted_label = np.argmax((probs.data).cpu().detach().numpy())\n",
    "        \n",
    "        predicted_label = torch.tensor([predicted_label])\n",
    "        predicted_label = predicted_label.to(device)\n",
    "        correct_predictions += (predicted_label == label).sum().item()\n",
    "        total_predictions += 1\n",
    "\n",
    "        # Сохраняем истинные и предсказанные метки\n",
    "        all_targets.extend(label.cpu().numpy())\n",
    "        all_predictions.extend(predicted_label.cpu().numpy())\n",
    "\n",
    "accuracy = correct_predictions / total_predictions\n",
    "print(f'Accuracy: {accuracy * 100:.2f}%')\n",
    "\n",
    "precision = precision_score(all_targets, all_predictions)\n",
    "recall = recall_score(all_targets, all_predictions)\n",
    "print(f'Precision: {precision * 100:.2f}%')\n",
    "print(f'Recall: {recall * 100:.2f}%')\n",
    "\n",
    "\n",
    "conf_matrix = confusion_matrix(all_targets, all_predictions)\n",
    "\n",
    "disp = ConfusionMatrixDisplay(confusion_matrix=conf_matrix, display_labels=['Class 0', 'Class 1'])\n",
    "disp.plot(cmap=plt.cm.Blues)\n",
    "plt.show()\n"
   ]
  }
 ],
 "metadata": {
  "kaggle": {
   "accelerator": "gpu",
   "dataSources": [
    {
     "datasetId": 17810,
     "sourceId": 23812,
     "sourceType": "datasetVersion"
    }
   ],
   "dockerImageVersionId": 30787,
   "isGpuEnabled": true,
   "isInternetEnabled": true,
   "language": "python",
   "sourceType": "notebook"
  },
  "kernelspec": {
   "display_name": "base",
   "language": "python",
   "name": "python3"
  },
  "language_info": {
   "codemirror_mode": {
    "name": "ipython",
    "version": 3
   },
   "file_extension": ".py",
   "mimetype": "text/x-python",
   "name": "python",
   "nbconvert_exporter": "python",
   "pygments_lexer": "ipython3",
   "version": "3.11.7"
  }
 },
 "nbformat": 4,
 "nbformat_minor": 4
}
